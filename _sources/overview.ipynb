{
    "cells": [
     {
      "cell_type": "markdown",
      "id": "b535037e-b9ed-4ec3-b601-1df87107e62e",
      "metadata": {},
      "source": [
       "# Surface Atmosphere Integrated Field Laboratory (SAIL) Radar Analysis\n",
       "\n",
       "![](https://sail.lbl.gov/wp-content/uploads/sites/21/2020/05/SAIL-Logo-e1588955960369.png)\n",
       "\n",
       "The SAIL field campaign is an ARM-sponsored field project located in Colorado!\n",
       "\n",
       "Here is [a link to the official ARM documentation](https://www.arm.gov/research/campaigns/amf2021sail) on this campaign\n",
       "\n",
       "And the project website https://sail.lbl.gov"
      ]
     },
     {
      "cell_type": "code",
      "execution_count": null,
      "id": "fa5efcbe-366a-49ab-8d3b-1f9b76289831",
      "metadata": {},
      "outputs": [],
      "source": []
     }
    ],
    "metadata": {
     "kernelspec": {
      "display_name": "Python 3 (ipykernel)",
      "language": "python",
      "name": "python3"
     },
     "language_info": {
      "codemirror_mode": {
       "name": "ipython",
       "version": 3
      },
      "file_extension": ".py",
      "mimetype": "text/x-python",
      "name": "python",
      "nbconvert_exporter": "python",
      "pygments_lexer": "ipython3",
      "version": "3.9.10"
     }
    },
    "nbformat": 4,
    "nbformat_minor": 5
   }
   