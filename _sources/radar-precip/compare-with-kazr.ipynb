{
 "cells": [
  {
   "cell_type": "markdown",
   "id": "58d3326a-00b2-4c64-8d81-1aaf4f9125e7",
   "metadata": {},
   "source": [
    "# Check Reflectivity Calibration\n",
    "In this example, we walk though how to check the calibration between the X-band and Ka-Band radars"
   ]
  },
  {
   "cell_type": "markdown",
   "id": "8515045b-1721-4784-a25b-d8f296257877",
   "metadata": {},
   "source": [
    "## Imports"
   ]
  },
  {
   "cell_type": "code",
   "execution_count": 94,
   "id": "080089dd-d49d-458e-a4c7-eca021518372",
   "metadata": {},
   "outputs": [],
   "source": [
    "import pyart\n",
    "import act\n",
    "import glob\n",
    "import matplotlib.pyplot as plt\n",
    "import xarray as xr\n",
    "from datetime import datetime\n",
    "from matplotlib.dates import DateFormatter"
   ]
  },
  {
   "cell_type": "markdown",
   "id": "ad235753-870b-4294-b6e5-ba7846e2892a",
   "metadata": {},
   "source": [
    "## Download the KAZR data\n",
    "We can access the Ka-band (KAZR) data from the ARM data portal"
   ]
  },
  {
   "cell_type": "code",
   "execution_count": 3,
   "id": "9d4ca211-4567-422d-a6f8-476a2e4df114",
   "metadata": {},
   "outputs": [
    {
     "name": "stdout",
     "output_type": "stream",
     "text": [
      "[DOWNLOADING] guckazrcfrcorgeM1.c0.20220314.000001.nc\n"
     ]
    }
   ],
   "source": [
    "kazr_files = act.discovery.download_data(\"mgrover4\",\n",
    "                                         \"###############\",\n",
    "                                         \"guckazrcfrcorgeM1.c0\", \n",
    "                                         \"2022-03-14\",\n",
    "                                         \"2022-03-14\")"
   ]
  },
  {
   "cell_type": "markdown",
   "id": "f059bfad-b2a6-4df4-b36e-43ba82ec107a",
   "metadata": {},
   "source": [
    "We have glued the original xband radar files, and stored these on the local file system in the path below"
   ]
  },
  {
   "cell_type": "code",
   "execution_count": 4,
   "id": "be7587ca-ea92-4da4-97ce-ca63532479a8",
   "metadata": {},
   "outputs": [],
   "source": [
    "xprecip_files = sorted(glob.glob(\"/gpfs/wolf/atm124/proj-shared/sail/202203_glued/xprecipradar_guc_volume_20220314-03*\"))"
   ]
  },
  {
   "cell_type": "markdown",
   "id": "09ec3e47-2b5f-4e83-904d-ece9bbb38ba6",
   "metadata": {},
   "source": [
    "## Load in the Data\n",
    "Let's work with the xarray datasets!"
   ]
  },
  {
   "cell_type": "code",
   "execution_count": 136,
   "id": "757c6070-cdec-409e-849a-510f6266916c",
   "metadata": {},
   "outputs": [],
   "source": [
    "kazr_radar = act.io.read_netcdf(kazr_files)\n",
    "\n",
    "# this was output from the csu-xband-snowfall-march-14-2022 notebook\n",
    "xband_ds = xr.open_dataset(\"sail_snowfall_retrievals_march_14_2022.nc\")"
   ]
  },
  {
   "cell_type": "markdown",
   "id": "a7ae58c2-f25d-44b8-9cfc-126cecfd6418",
   "metadata": {},
   "source": [
    "We also need to apply the quality flags before working with the kazr data"
   ]
  },
  {
   "cell_type": "code",
   "execution_count": 137,
   "id": "081c12e8-e572-4eb6-9225-d7038c62cece",
   "metadata": {},
   "outputs": [],
   "source": [
    "kazr_lowest_reflectivity = kazr_radar.where(kazr_radar.qc_reflectivity != 1).isel(range=2)[['reflectivity']]"
   ]
  },
  {
   "cell_type": "markdown",
   "id": "7d35d9ff-1224-43c4-bf7b-ea4866a911d9",
   "metadata": {},
   "source": [
    "## Setup Functions to Calculate Snowfall"
   ]
  },
  {
   "cell_type": "code",
   "execution_count": 72,
   "id": "1ae3a853-1cf0-4be1-b5fa-9d61287fc433",
   "metadata": {},
   "outputs": [],
   "source": [
    "def snow_rate_from_ds(ds, swe_ratio, A, B, snow_field_name=\"snow_z\", reflectivity_field='DBZ'):\n",
    "    \"\"\"\n",
    "    Snow rate applied to an Xarray.Dataset\n",
    "    \n",
    "    Takes a given Snow Water Equivilent ratio (SWE_ratio), A and B value\n",
    "    for the Z-S relationship and creates a radar field similar to DBZ\n",
    "    showing the radar estimated snowfall rate in mm/hr. Then the given\n",
    "    SWE_ratio, A and B are stored in the radar metadata for later \n",
    "    reference.   \n",
    "    \"\"\"\n",
    "    snow_z = ds[reflectivity_field].copy()\n",
    "    \n",
    "    # Convert it from dB to linear units\n",
    "    z_lin = 10.0**(snow_z/10.)\n",
    "    \n",
    "    # Apply the Z-S relation.\n",
    "    snow_z = swe_ratio * (z_lin/A)**(1./B)\n",
    "    \n",
    "    ds[snow_field_name] = snow_z\n",
    "    \n",
    "    field_attrs = {\"units\": \"mm/hr\",\n",
    "                   \"standard_name\": \"snowfall_rate\",\n",
    "                   \"long_name\":\"snowfall_rate_from_z\",\n",
    "                   \"valid_min\":0,\n",
    "                   \"valid_max\":500,\n",
    "                   \"swe_ratio\":swe_ratio,\n",
    "                   \"A\":A,\n",
    "                   \"B\":B}\n",
    "    \n",
    "    ds[snow_field_name].attrs = field_attrs\n",
    "    \n",
    "    return ds"
   ]
  },
  {
   "cell_type": "code",
   "execution_count": 73,
   "id": "7e654798-911c-48dc-b01c-51722caedb22",
   "metadata": {},
   "outputs": [],
   "source": [
    "zs_relationship_dict = {\"Wolf_and_Snider\":\n",
    "                        {\"A\": 110,\n",
    "                         \"B\": 2},\n",
    "                        \"WSR_88D_High_Plains\":\n",
    "                        {\"A\": 130,\n",
    "                         \"B\": 2},\n",
    "                        \"WSR_88D_Intermountain_West\":\n",
    "                        {\"A\": 40,\n",
    "                         \"B\": 2},\n",
    "                        \"Matrosov et al.(2009) Braham(1990) 1\":\n",
    "                        {\"A\": 67,\n",
    "                         \"B\": 1.28},\n",
    "                         \"Matrosov et al.(2009) Braham(1990) 2\":\n",
    "                        {\"A\": 114,\n",
    "                         \"B\": 1.39},\n",
    "                         \"Matrosov et al.(2009) Braham(1990) 3\":\n",
    "                        {\"A\": 136,\n",
    "                         \"B\": 1.3},\n",
    "                         \"Matrosov et al.(2009) Braham(1990) 4\":\n",
    "                        {\"A\": 28,\n",
    "                         \"B\": 1.44,},\n",
    "                         \"Matrosov et al.(2009) Braham(1990) 5\":\n",
    "                        {\"A\": 36,\n",
    "                         \"B\": 1.56},\n",
    "                         \"Matrosov et al.(2009) Braham(1990) 6\":\n",
    "                        {\"A\": 48,\n",
    "                         \"B\": 1.45},\n",
    "                       }"
   ]
  },
  {
   "cell_type": "markdown",
   "id": "531694c5-370f-4a9b-a1a4-4061d977712b",
   "metadata": {},
   "source": [
    "## Apply the Z(S) relationships\n",
    "We can now apply our z-s relationships to our dataset"
   ]
  },
  {
   "cell_type": "code",
   "execution_count": 132,
   "id": "c455fcec-1213-479d-8f6c-1a8e80422af0",
   "metadata": {},
   "outputs": [],
   "source": [
    "for relationship in zs_relationship_dict.keys():\n",
    "    snow_rate_from_ds(kazr_lowest_reflectivity,\n",
    "                      8.5,\n",
    "                      zs_relationship_dict[relationship][\"A\"],\n",
    "                      zs_relationship_dict[relationship][\"B\"],\n",
    "                      snow_field_name=relationship,\n",
    "                      reflectivity_field='reflectivity')"
   ]
  },
  {
   "cell_type": "code",
   "execution_count": 133,
   "id": "d7b88ed0-4d41-414c-b53a-1bf1b802ce6c",
   "metadata": {},
   "outputs": [],
   "source": [
    "ds = kazr_lowest_reflectivity"
   ]
  },
  {
   "cell_type": "markdown",
   "id": "251bb030-8680-4eee-8475-b65565a9e10c",
   "metadata": {},
   "source": [
    "## Calculate Accumulated Snowfall "
   ]
  },
  {
   "cell_type": "code",
   "execution_count": 134,
   "id": "13babb0e-849d-43fc-a5b5-ec3ccf27593d",
   "metadata": {},
   "outputs": [],
   "source": [
    "zs_fields = list(zs_relationship_dict.keys())"
   ]
  },
  {
   "cell_type": "code",
   "execution_count": 135,
   "id": "53f09842-e9be-4d56-9c63-ca519148fab7",
   "metadata": {},
   "outputs": [],
   "source": [
    "ds_resampled = ds.resample(time=\"1T\").mean()"
   ]
  },
  {
   "cell_type": "code",
   "execution_count": 121,
   "id": "4cf191bc-6a93-4293-b15c-70a06d9953c3",
   "metadata": {},
   "outputs": [],
   "source": [
    "for field in zs_fields:\n",
    "    ds_resampled[field].attrs[\"units\"] = \"mm/hr\"\n",
    "    ds_resampled = act.utils.accumulate_precip(ds_resampled, field)"
   ]
  },
  {
   "cell_type": "markdown",
   "id": "745f9eb6-9a1e-4392-8d5b-6b7a7cbea57a",
   "metadata": {},
   "source": [
    "## Plot a Reflectivity Comparison"
   ]
  },
  {
   "cell_type": "code",
   "execution_count": 131,
   "id": "c71915b3-b461-45b5-9d58-7fef5fa0adc6",
   "metadata": {},
   "outputs": [
    {
     "data": {
      "image/png": "[encoded data removed]",
      "text/plain": [
       "<Figure size 432x288 with 1 Axes>"
      ]
     },
     "metadata": {
      "needs_background": "light"
     },
     "output_type": "display_data"
    }
   ],
   "source": [
    "xband_ds.sel(site='pluvio').isel(height=0).DBZ.plot(label='X-Band Reflectivity')\n",
    "ds_resampled.reflectivity.plot(label='KAZR Reflectivity')\n",
    "plt.legend()\n",
    "plt.title('')\n",
    "plt.savefig(\"kazr_xband_ref.png\", dpi=300)"
   ]
  },
  {
   "cell_type": "markdown",
   "id": "c4ccb4a4-6436-41af-a6b2-d47a68571290",
   "metadata": {},
   "source": [
    "## Compare Snowfall Totals with Gothic Weather Station\n",
    "The observation here is from the Gothic wx site, using the liquid precipitation value from March 14, 2022 https://www.gothicwx.org/current-year-data-2022.html"
   ]
  },
  {
   "cell_type": "code",
   "execution_count": 130,
   "id": "38f2b613-a1eb-4930-8973-51cbf74351b6",
   "metadata": {},
   "outputs": [
    {
     "data": {
      "image/png": "[encoded data removed]",
      "text/plain": [
       "<Figure size 432x288 with 1 Axes>"
      ]
     },
     "metadata": {
      "needs_background": "light"
     },
     "output_type": "display_data"
    }
   ],
   "source": [
    "date_form = DateFormatter(\"%H%M UTC %b %d %Y\")\n",
    "\n",
    "for relationship in list(zs_relationship_dict.keys())[:3]:\n",
    "    relationship_name = relationship.replace(\"_\", \" \")\n",
    "    a_coefficeint = ds[relationship].A\n",
    "    b_coefficeint = ds[relationship].B\n",
    "    relationship_equation = f\"$Z = {a_coefficeint}S^{b_coefficeint}$\"\n",
    "\n",
    "    (ds_resampled[relationship+\"_accumulated\"]).plot(label=f'{relationship_name} ({relationship_equation})')\n",
    "    ax.xaxis.set_major_formatter(date_form)\n",
    "    \n",
    "plt.scatter(datetime(2022, 3, 14, 13, 30),\n",
    "            4.826,\n",
    "            c=\"k\",\n",
    "            s=100,\n",
    "            marker=\"x\",\n",
    "            label=\"Snowfall Observation from Gothic Weather\")\n",
    "    \n",
    "plt.legend(loc='upper right', fontsize=8)\n",
    "plt.title(\"KAZR Estimated Snowfall (mm of water)\")\n",
    "plt.savefig(\"kazr_snowfall.png\", dpi=300)"
   ]
  },
  {
   "cell_type": "code",
   "execution_count": null,
   "id": "5167c317-6a3c-4c4e-b20d-1d574a1a0486",
   "metadata": {},
   "outputs": [],
   "source": []
  }
 ],
 "metadata": {
  "kernelspec": {
   "display_name": "sail-radar-dev",
   "language": "python",
   "name": "sail-radar-dev"
  },
  "language_info": {
   "codemirror_mode": {
    "name": "ipython",
    "version": 3
   },
   "file_extension": ".py",
   "mimetype": "text/x-python",
   "name": "python",
   "nbconvert_exporter": "python",
   "pygments_lexer": "ipython3",
   "version": "3.9.12"
  }
 },
 "nbformat": 4,
 "nbformat_minor": 5
}
