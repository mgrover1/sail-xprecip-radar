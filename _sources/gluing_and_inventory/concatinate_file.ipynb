{
 "cells": [
  {
   "cell_type": "markdown",
   "id": "b1336072",
   "metadata": {},
   "source": [
    "# Gluing and Merging\n",
    "\n",
    "Within this notebook, we glue the individual files which each contain a single sweep (elevation level), into full volume scans, where each file represents a volume scan. We have downloaded the raw data from the [ARM Data portal](https://adc.arm.gov/discovery/#/results/datastream::gucxprecipradarS2.00), using the `gucxprecipradarS2.00` datastream."
   ]
  },
  {
   "cell_type": "code",
   "execution_count": 1,
   "id": "374502ac",
   "metadata": {},
   "outputs": [
    {
     "name": "stdout",
     "output_type": "stream",
     "text": [
      "\n",
      "## You are using the Python ARM Radar Toolkit (Py-ART), an open source\n",
      "## library for working with weather radar data. Py-ART is partly\n",
      "## supported by the U.S. Department of Energy as part of the Atmospheric\n",
      "## Radiation Measurement (ARM) Climate Research Facility, an Office of\n",
      "## Science user facility.\n",
      "##\n",
      "## If you use this software to prepare a publication, please cite:\n",
      "##\n",
      "##     JJ Helmus and SM Collis, JORS 2016, doi: 10.5334/jors.119\n",
      "\n"
     ]
    }
   ],
   "source": [
    "import warnings\n",
    "warnings.filterwarnings(\"ignore\", category=DeprecationWarning) \n",
    "\n",
    "import os\n",
    "import time\n",
    "import datetime\n",
    "import numpy as np\n",
    "import xarray as xr\n",
    "import tempfile\n",
    "from pathlib import Path\n",
    "import shutil \n",
    "\n",
    "from matplotlib import pyplot as plt\n",
    "from dask.distributed import Client, LocalCluster, progress\n",
    "\n",
    "import pyart"
   ]
  },
  {
   "cell_type": "markdown",
   "id": "691d7069",
   "metadata": {},
   "source": [
    "## Define Helper Functions"
   ]
  },
  {
   "cell_type": "code",
   "execution_count": 2,
   "id": "352f8fc6-5d59-45c2-916c-9bc4454910d0",
   "metadata": {},
   "outputs": [],
   "source": [
    "def glue_fix(ds):\n",
    "    # Define the required encodings for the glue files\n",
    "    encodings = {'DBZ' : {'_FillValue' : -32768.0},\n",
    "                 'VEL' : {'_FillValue' : -32768.0},\n",
    "                 'WIDTH' : {'_FillValue' : -32768.0},\n",
    "                 'ZDR' : {'_FillValue' : -32768.0},\n",
    "                 'PHIDP' : {'_FillValue' : -32768.0},\n",
    "                 'RHOHV' : {'_FillValue' : -32768.0},\n",
    "                 'NCP' : {'_FillValue' : -32768.0},\n",
    "                 'DBZhv' : {'_FillValue' : -32768.0},\n",
    "                }   \n",
    "        \n",
    "    # Loop over all the variables; update the FillValue and Data Type\n",
    "    for var in encodings:\n",
    "        # Convert all values within the DataArray to the correct Fill Value\n",
    "        # NOTE: xr.where(condition, value_when_condition_is_not_met); so if every index is MVC, check for opposite\n",
    "        mask = ds[var].where(ds[var] > -99800, encodings[var]['_FillValue'])\n",
    "        # Append the corrected data to the variable.\n",
    "        ds[var] = mask\n",
    "    \n",
    "    return ds"
   ]
  },
  {
   "cell_type": "code",
   "execution_count": 3,
   "id": "3dd6302a",
   "metadata": {},
   "outputs": [],
   "source": [
    "def radar_glue(b_radar, radar_list):\n",
    "    if radar_list is not None:\n",
    "        for rad in radar_list:\n",
    "            b_radar = pyart.util.join_radar(b_radar, rad)\n",
    "            del rad\n",
    "    else:\n",
    "        b_radar = None\n",
    "    return b_radar"
   ]
  },
  {
   "cell_type": "code",
   "execution_count": 4,
   "id": "b245fb02",
   "metadata": {},
   "outputs": [],
   "source": [
    "def volume_from_list(base_radar, vlist, base_dir):\n",
    "    try:\n",
    "        radars = [pyart.io.read(base_dir+sw) for sw in vlist[1::]]\n",
    "    except:\n",
    "        radars = None\n",
    "    return radar_glue(base_radar, radars)"
   ]
  },
  {
   "cell_type": "code",
   "execution_count": 5,
   "id": "127bcf07-ff1f-47b3-a566-ff7ed6840884",
   "metadata": {},
   "outputs": [],
   "source": [
    "def fix_times(ds):\n",
    "    # Determine number of specific times within the file\n",
    "    specific = set(ds.time.data)\n",
    "    # Loop through the specific times, and add offset\n",
    "    for value in specific:\n",
    "        dt = np.arange(0, len(ds.sel(time=slice(value, value)).time.data))\n",
    "        dt = dt.astype('timedelta64[ms]')\n",
    "        # add the time offset to the original times\n",
    "        new_times = ds.sel(time=slice(value, value)).time.data + dt\n",
    "        ds.sel(time=slice(value, value)).time.data[:] = new_times\n",
    "    # Send back to the main\n",
    "    return ds"
   ]
  },
  {
   "cell_type": "code",
   "execution_count": 6,
   "id": "f1e461bf-7740-45f4-8797-47f1346c66f8",
   "metadata": {},
   "outputs": [],
   "source": [
    "def granule(Dvolume):\n",
    "    n_tilts = 8\n",
    "    month = \"202203\"\n",
    "    data_dir = \"/gpfs/wolf/atm124/proj-shared/gucxprecipradarS2.00/nc_files/\" + month + \"_nc/\"\n",
    "    out_dir = \"/gpfs/wolf/atm124/proj-shared/gucxprecipradarS2.00/glue_files/\" + month + \"_glued/\"\n",
    "\n",
    "    # Read the base scan to determine if it can be read in\n",
    "    if len(Dvolume) == 8:\n",
    "        try:\n",
    "            base_rad = pyart.io.read(data_dir+Dvolume[0])\n",
    "        except:\n",
    "            base_rad = None\n",
    "        # Read all scans and join with base scan\n",
    "        if base_rad is not None:\n",
    "            out_radar = volume_from_list(base_rad, Dvolume, data_dir)\n",
    "            if out_radar is not None:\n",
    "                # Define the filename time from the radar object\n",
    "                ff = time.strptime(out_radar.time['units'][14:], '%Y-%m-%dT%H:%M:%SZ')\n",
    "                dt = datetime.datetime.fromtimestamp(time.mktime(ff)) + datetime.timedelta(seconds= int(out_radar.time['data'][0]))\n",
    "                strform = dt.strftime(out_dir + 'xprecipradar_guc_volume_%Y%m%d-%H%M%S.b1.nc')\n",
    "                #FIX for join issue.. to be fixed in Py-ART\n",
    "                out_radar.sweep_mode['data']=np.tile(base_rad.sweep_mode['data'], n_tilts)\n",
    "                try:\n",
    "                    pyart.io.write_cfradial(strform, out_radar, arm_time_variables=True)\n",
    "                    print('SUCCESS', strform)\n",
    "                except:\n",
    "                    print('FAILURE', strform)\n",
    "                # Delete the radars to free up memory\n",
    "                del base_rad\n",
    "                del out_radar\n",
    "            # Fix the times and encodings of the generated file\n",
    "            with tempfile.TemporaryDirectory() as tmpdir:\n",
    "                tmp_path = Path(tmpdir)\n",
    "                with xr.open_dataset(strform, mask_and_scale=False) as ds:\n",
    "                    ds = ds.load()\n",
    "                    ds = fix_times(ds)\n",
    "                    ds = glue_fix(ds)\n",
    "                    out_path = str(tmp_path) + '/' + strform.split('/')[-1]\n",
    "                    # set time encoding for miliseconds\n",
    "                    ds.time.encoding['units'] = 'milliseconds since 1970-01-01'\n",
    "                    ds.to_netcdf(path=out_path)\n",
    "                shutil.copy(out_path, strform)"
   ]
  },
  {
   "cell_type": "markdown",
   "id": "2bda0c0c",
   "metadata": {},
   "source": [
    "## Locate all the PPI scans within the Desired Directories"
   ]
  },
  {
   "cell_type": "code",
   "execution_count": 7,
   "id": "a405c35d",
   "metadata": {},
   "outputs": [],
   "source": [
    "month = \"202203\"\n",
    "data_dir = \"/gpfs/wolf/atm124/proj-shared/gucxprecipradarS2.00/nc_files/\" + month + \"_nc/\"\n",
    "out_dir = \"/gpfs/wolf/atm124/proj-shared/gucxprecipradarS2.00/glue_files/\" + month + \"_glued/\""
   ]
  },
  {
   "cell_type": "code",
   "execution_count": 8,
   "id": "4e6b5ba6",
   "metadata": {},
   "outputs": [],
   "source": [
    "all_files = os.listdir(data_dir)\n",
    "all_files.sort()"
   ]
  },
  {
   "cell_type": "code",
   "execution_count": 9,
   "id": "0648e36d",
   "metadata": {},
   "outputs": [],
   "source": [
    "base_scan_ppi = '1_PPI.nc'\n",
    "ppi_pattern = 'PPI.nc'\n",
    "base_scans = []\n",
    "volumes = []\n",
    "ppis = []\n",
    "in_volume = False\n",
    "for file in all_files:\n",
    "    if ppi_pattern in file:\n",
    "        ppis.append(file)\n",
    "    if base_scan_ppi in file:\n",
    "        base_scans.append(file)"
   ]
  },
  {
   "cell_type": "code",
   "execution_count": 10,
   "id": "0b27b11f",
   "metadata": {},
   "outputs": [],
   "source": [
    "n_tilts = 8"
   ]
  },
  {
   "cell_type": "code",
   "execution_count": 11,
   "id": "36f4ac94",
   "metadata": {},
   "outputs": [],
   "source": [
    "volumes = []\n",
    "for base in base_scans:\n",
    "    base_scan_index = np.where(np.array(ppis) == base)[0][0]\n",
    "    #print(base_scan_index)\n",
    "    volume = ppis[base_scan_index: base_scan_index+n_tilts]\n",
    "    volumes.append(volume)"
   ]
  },
  {
   "cell_type": "markdown",
   "id": "3b34df49",
   "metadata": {},
   "source": [
    "## Try Single Volume to Verify Process"
   ]
  },
  {
   "cell_type": "code",
   "execution_count": 12,
   "id": "b6e36298",
   "metadata": {},
   "outputs": [
    {
     "data": {
      "text/plain": [
       "['gucxprecipradarS2.00.20220301.004845.raw.csu.sail-20220301-004845_278032_22_1_PPI.nc',\n",
       " 'gucxprecipradarS2.00.20220301.004916.raw.csu.sail-20220301-004916_278034_22_2_PPI.nc',\n",
       " 'gucxprecipradarS2.00.20220301.004949.raw.csu.sail-20220301-004949_278035_22_4_PPI.nc',\n",
       " 'gucxprecipradarS2.00.20220301.005020.raw.csu.sail-20220301-005020_278036_22_6_PPI.nc',\n",
       " 'gucxprecipradarS2.00.20220301.005053.raw.csu.sail-20220301-005053_278037_22_8_PPI.nc',\n",
       " 'gucxprecipradarS2.00.20220301.005124.raw.csu.sail-20220301-005124_278038_22_10_PPI.nc',\n",
       " 'gucxprecipradarS2.00.20220301.005156.raw.csu.sail-20220301-005156_278039_22_12_PPI.nc',\n",
       " 'gucxprecipradarS2.00.20220301.005229.raw.csu.sail-20220301-005229_278040_22_15_PPI.nc']"
      ]
     },
     "execution_count": 12,
     "metadata": {},
     "output_type": "execute_result"
    }
   ],
   "source": [
    "volumes[0]"
   ]
  },
  {
   "cell_type": "code",
   "execution_count": 13,
   "id": "f6ad63e3",
   "metadata": {},
   "outputs": [
    {
     "name": "stdout",
     "output_type": "stream",
     "text": [
      "SUCCESS /gpfs/wolf/atm124/proj-shared/gucxprecipradarS2.00/glue_files/202203_glued/xprecipradar_guc_volume_20220301-004845.b1.nc\n",
      "CPU times: user 14.4 s, sys: 1.66 s, total: 16 s\n",
      "Wall time: 17.1 s\n"
     ]
    }
   ],
   "source": [
    "%%time\n",
    "granule(volumes[0])"
   ]
  },
  {
   "cell_type": "code",
   "execution_count": 17,
   "id": "9d7f8f24-a349-4693-9a5d-bda88eef18c8",
   "metadata": {},
   "outputs": [],
   "source": [
    "# smaller subset just for testing; for full month map volumes to granule\n",
    "subset = volumes[0:16]"
   ]
  },
  {
   "cell_type": "markdown",
   "id": "45dd0c3a",
   "metadata": {},
   "source": [
    "## Start a Dask Cluster"
   ]
  },
  {
   "cell_type": "code",
   "execution_count": 15,
   "id": "8d9383af",
   "metadata": {},
   "outputs": [
    {
     "data": {
      "text/html": [
       "<div>\n",
       "    <div style=\"width: 24px; height: 24px; background-color: #e1e1e1; border: 3px solid #9D9D9D; border-radius: 5px; position: absolute;\"> </div>\n",
       "    <div style=\"margin-left: 48px;\">\n",
       "        <h3 style=\"margin-bottom: 0px;\">Client</h3>\n",
       "        <p style=\"color: #9D9D9D; margin-bottom: 0px;\">Client-6b38fc35-d1cd-11ee-aa6b-b8cb29b120a2</p>\n",
       "        <table style=\"width: 100%; text-align: left;\">\n",
       "\n",
       "        <tr>\n",
       "        \n",
       "            <td style=\"text-align: left;\"><strong>Connection method:</strong> Cluster object</td>\n",
       "            <td style=\"text-align: left;\"><strong>Cluster type:</strong> distributed.LocalCluster</td>\n",
       "        \n",
       "        </tr>\n",
       "\n",
       "        \n",
       "            <tr>\n",
       "                <td style=\"text-align: left;\">\n",
       "                    <strong>Dashboard: </strong> <a href=\"http://127.0.0.1:8787/status\" target=\"_blank\">http://127.0.0.1:8787/status</a>\n",
       "                </td>\n",
       "                <td style=\"text-align: left;\"></td>\n",
       "            </tr>\n",
       "        \n",
       "\n",
       "        </table>\n",
       "\n",
       "        \n",
       "            <button style=\"margin-bottom: 12px;\" data-commandlinker-command=\"dask:populate-and-launch-layout\" data-commandlinker-args='{\"url\": \"http://127.0.0.1:8787/status\" }'>\n",
       "                Launch dashboard in JupyterLab\n",
       "            </button>\n",
       "        \n",
       "\n",
       "        \n",
       "            <details>\n",
       "            <summary style=\"margin-bottom: 20px;\"><h3 style=\"display: inline;\">Cluster Info</h3></summary>\n",
       "            <div class=\"jp-RenderedHTMLCommon jp-RenderedHTML jp-mod-trusted jp-OutputArea-output\">\n",
       "    <div style=\"width: 24px; height: 24px; background-color: #e1e1e1; border: 3px solid #9D9D9D; border-radius: 5px; position: absolute;\">\n",
       "    </div>\n",
       "    <div style=\"margin-left: 48px;\">\n",
       "        <h3 style=\"margin-bottom: 0px; margin-top: 0px;\">LocalCluster</h3>\n",
       "        <p style=\"color: #9D9D9D; margin-bottom: 0px;\">d5f460ae</p>\n",
       "        <table style=\"width: 100%; text-align: left;\">\n",
       "            <tr>\n",
       "                <td style=\"text-align: left;\">\n",
       "                    <strong>Dashboard:</strong> <a href=\"http://127.0.0.1:8787/status\" target=\"_blank\">http://127.0.0.1:8787/status</a>\n",
       "                </td>\n",
       "                <td style=\"text-align: left;\">\n",
       "                    <strong>Workers:</strong> 1\n",
       "                </td>\n",
       "            </tr>\n",
       "            <tr>\n",
       "                <td style=\"text-align: left;\">\n",
       "                    <strong>Total threads:</strong> 1\n",
       "                </td>\n",
       "                <td style=\"text-align: left;\">\n",
       "                    <strong>Total memory:</strong> 251.48 GiB\n",
       "                </td>\n",
       "            </tr>\n",
       "            \n",
       "            <tr>\n",
       "    <td style=\"text-align: left;\"><strong>Status:</strong> running</td>\n",
       "    <td style=\"text-align: left;\"><strong>Using processes:</strong> True</td>\n",
       "</tr>\n",
       "\n",
       "            \n",
       "        </table>\n",
       "\n",
       "        <details>\n",
       "            <summary style=\"margin-bottom: 20px;\">\n",
       "                <h3 style=\"display: inline;\">Scheduler Info</h3>\n",
       "            </summary>\n",
       "\n",
       "            <div style=\"\">\n",
       "    <div>\n",
       "        <div style=\"width: 24px; height: 24px; background-color: #FFF7E5; border: 3px solid #FF6132; border-radius: 5px; position: absolute;\"> </div>\n",
       "        <div style=\"margin-left: 48px;\">\n",
       "            <h3 style=\"margin-bottom: 0px;\">Scheduler</h3>\n",
       "            <p style=\"color: #9D9D9D; margin-bottom: 0px;\">Scheduler-8ee07010-a59b-4d9e-9820-fab289c28b05</p>\n",
       "            <table style=\"width: 100%; text-align: left;\">\n",
       "                <tr>\n",
       "                    <td style=\"text-align: left;\">\n",
       "                        <strong>Comm:</strong> tcp://127.0.0.1:34455\n",
       "                    </td>\n",
       "                    <td style=\"text-align: left;\">\n",
       "                        <strong>Workers:</strong> 1\n",
       "                    </td>\n",
       "                </tr>\n",
       "                <tr>\n",
       "                    <td style=\"text-align: left;\">\n",
       "                        <strong>Dashboard:</strong> <a href=\"http://127.0.0.1:8787/status\" target=\"_blank\">http://127.0.0.1:8787/status</a>\n",
       "                    </td>\n",
       "                    <td style=\"text-align: left;\">\n",
       "                        <strong>Total threads:</strong> 1\n",
       "                    </td>\n",
       "                </tr>\n",
       "                <tr>\n",
       "                    <td style=\"text-align: left;\">\n",
       "                        <strong>Started:</strong> Just now\n",
       "                    </td>\n",
       "                    <td style=\"text-align: left;\">\n",
       "                        <strong>Total memory:</strong> 251.48 GiB\n",
       "                    </td>\n",
       "                </tr>\n",
       "            </table>\n",
       "        </div>\n",
       "    </div>\n",
       "\n",
       "    <details style=\"margin-left: 48px;\">\n",
       "        <summary style=\"margin-bottom: 20px;\">\n",
       "            <h3 style=\"display: inline;\">Workers</h3>\n",
       "        </summary>\n",
       "\n",
       "        \n",
       "        <div style=\"margin-bottom: 20px;\">\n",
       "            <div style=\"width: 24px; height: 24px; background-color: #DBF5FF; border: 3px solid #4CC9FF; border-radius: 5px; position: absolute;\"> </div>\n",
       "            <div style=\"margin-left: 48px;\">\n",
       "            <details>\n",
       "                <summary>\n",
       "                    <h4 style=\"margin-bottom: 0px; display: inline;\">Worker: 0</h4>\n",
       "                </summary>\n",
       "                <table style=\"width: 100%; text-align: left;\">\n",
       "                    <tr>\n",
       "                        <td style=\"text-align: left;\">\n",
       "                            <strong>Comm: </strong> tcp://127.0.0.1:43873\n",
       "                        </td>\n",
       "                        <td style=\"text-align: left;\">\n",
       "                            <strong>Total threads: </strong> 1\n",
       "                        </td>\n",
       "                    </tr>\n",
       "                    <tr>\n",
       "                        <td style=\"text-align: left;\">\n",
       "                            <strong>Dashboard: </strong> <a href=\"http://127.0.0.1:37303/status\" target=\"_blank\">http://127.0.0.1:37303/status</a>\n",
       "                        </td>\n",
       "                        <td style=\"text-align: left;\">\n",
       "                            <strong>Memory: </strong> 251.48 GiB\n",
       "                        </td>\n",
       "                    </tr>\n",
       "                    <tr>\n",
       "                        <td style=\"text-align: left;\">\n",
       "                            <strong>Nanny: </strong> tcp://127.0.0.1:34077\n",
       "                        </td>\n",
       "                        <td style=\"text-align: left;\"></td>\n",
       "                    </tr>\n",
       "                    <tr>\n",
       "                        <td colspan=\"2\" style=\"text-align: left;\">\n",
       "                            <strong>Local directory: </strong> /tmp/dask-scratch-space/worker-6_zfrvvd\n",
       "                        </td>\n",
       "                    </tr>\n",
       "\n",
       "                    \n",
       "\n",
       "                    \n",
       "\n",
       "                </table>\n",
       "            </details>\n",
       "            </div>\n",
       "        </div>\n",
       "        \n",
       "\n",
       "    </details>\n",
       "</div>\n",
       "\n",
       "        </details>\n",
       "    </div>\n",
       "</div>\n",
       "            </details>\n",
       "        \n",
       "\n",
       "    </div>\n",
       "</div>"
      ],
      "text/plain": [
       "<Client: 'tcp://127.0.0.1:34455' processes=1 threads=1, memory=251.48 GiB>"
      ]
     },
     "execution_count": 15,
     "metadata": {},
     "output_type": "execute_result"
    }
   ],
   "source": [
    "from dask.distributed import Client, LocalCluster\n",
    "\n",
    "cluster = LocalCluster()\n",
    "\n",
    "client = Client(cluster)\n",
    "client"
   ]
  },
  {
   "cell_type": "markdown",
   "id": "9a0cee88",
   "metadata": {},
   "source": [
    "## Glue the Files"
   ]
  },
  {
   "cell_type": "code",
   "execution_count": 16,
   "id": "17cca90d",
   "metadata": {},
   "outputs": [
    {
     "name": "stdout",
     "output_type": "stream",
     "text": [
      "CPU times: user 3.33 s, sys: 2.07 s, total: 5.39 s\n",
      "Wall time: 4min 33s\n"
     ]
    }
   ],
   "source": [
    "%%time\n",
    "future = client.map(granule, subset)\n",
    "my_data = client.gather(future)"
   ]
  },
  {
   "cell_type": "code",
   "execution_count": null,
   "id": "e439c9f8-4e8d-44ac-b45e-4a550f0d2225",
   "metadata": {},
   "outputs": [],
   "source": []
  }
 ],
 "metadata": {
  "kernelspec": {
   "display_name": "Python 3 (ipykernel)",
   "language": "python",
   "name": "python3"
  },
  "language_info": {
   "codemirror_mode": {
    "name": "ipython",
    "version": 3
   },
   "file_extension": ".py",
   "mimetype": "text/x-python",
   "name": "python",
   "nbconvert_exporter": "python",
   "pygments_lexer": "ipython3",
   "version": "3.11.7"
  }
 },
 "nbformat": 4,
 "nbformat_minor": 5
}
